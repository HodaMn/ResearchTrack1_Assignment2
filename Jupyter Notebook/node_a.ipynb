{
 "cells": [
  {
   "cell_type": "code",
   "execution_count": 1,
   "id": "bbfdd7b5",
   "metadata": {
    "ExecuteTime": {
     "end_time": "2024-05-25T19:11:06.409542Z",
     "start_time": "2024-05-25T19:11:05.812955Z"
    }
   },
   "outputs": [],
   "source": [
    "import sys\n",
    "import rospy \n",
    "import actionlib\n",
    "import threading\n",
    "import time\n",
    "import actionlib.msg\n",
    "import jupyros as jr\n",
    "import assignment_2_2023.msg\n",
    "from nav_msgs.msg import Odometry\n",
    "import ipywidgets as widgets\n",
    "from IPython.display import display\n",
    "from assignment_2_2023.msg import Info\n",
    "from assignment_2_2023.msg import PlanningAction, PlanningGoal\n",
    "from geometry_msgs.msg import Point, Pose, Twist, PoseStamped\n",
    "from assignment_2_2023.srv import target, targetResponse"
   ]
  },
  {
   "cell_type": "code",
   "execution_count": null,
   "id": "4f133174",
   "metadata": {
    "ExecuteTime": {
     "end_time": "2024-05-25T11:04:40.796508Z",
     "start_time": "2024-05-25T11:04:40.767204Z"
    }
   },
   "outputs": [],
   "source": [
    "#Initialization of elements\n",
    "pose = PoseStamped()\n",
    "target_reached = 0\n",
    "target_canceled = 0"
   ]
  },
  {
   "cell_type": "code",
   "execution_count": null,
   "id": "acec9979",
   "metadata": {
    "ExecuteTime": {
     "end_time": "2024-05-25T11:04:41.274273Z",
     "start_time": "2024-05-25T11:04:40.798235Z"
    }
   },
   "outputs": [],
   "source": [
    "# Initialize ROS node\n",
    "rospy.init_node(\"node_a\", anonymous=True)"
   ]
  },
  {
   "cell_type": "code",
   "execution_count": null,
   "id": "6dd72c19",
   "metadata": {
    "ExecuteTime": {
     "end_time": "2024-05-25T11:04:45.495224Z",
     "start_time": "2024-05-25T11:04:44.995983Z"
    }
   },
   "outputs": [],
   "source": [
    "# Create actions client and connect to server\n",
    "action_name = '/reaching_goal'\n",
    "client = actionlib.SimpleActionClient(action_name, PlanningAction)\n",
    "server_ok = client.wait_for_server(timeout=rospy.Duration(5.0))\n",
    "if server_ok:\n",
    "    rospy.loginfo(f'[{action_name.upper()}] Connection to server successful.')\n",
    "else:\n",
    "    rospy.logerr(f'[{action_name.upper()}] Unable to connect to server.')"
   ]
  },
  {
   "cell_type": "code",
   "execution_count": null,
   "id": "b3eb1b42",
   "metadata": {
    "ExecuteTime": {
     "end_time": "2024-05-25T11:04:47.494002Z",
     "start_time": "2024-05-25T11:04:47.307213Z"
    }
   },
   "outputs": [],
   "source": [
    "#Publish\n",
    "pub_info = rospy.Publisher('/bot_info', Info, queue_size=1)"
   ]
  },
  {
   "cell_type": "code",
   "execution_count": null,
   "id": "a40a0787",
   "metadata": {
    "ExecuteTime": {
     "end_time": "2024-05-25T11:04:47.774949Z",
     "start_time": "2024-05-25T11:04:47.497215Z"
    }
   },
   "outputs": [],
   "source": [
    "# Function to handle goal result\n",
    "def goal_done_cb(state, result):\n",
    "    global target_reached, target_canceled\n",
    "    with output:\n",
    "        if state == actionlib.GoalStatus.SUCCEEDED:\n",
    "            target_reached += 1\n",
    "            goal_status.value = \"Goal reached\"\n",
    "        else:\n",
    "            target_canceled += 1\n",
    "            goal_status.value = \"Goal failed/canceled\"\n",
    "        vix_goals.update(target_reached, target_canceled)\n",
    "\n",
    "# Function to handle goal feedback\n",
    "def goal_feedback_cb(feedback):\n",
    "    with output:\n",
    "        pass\n"
   ]
  },
  {
   "cell_type": "code",
   "execution_count": null,
   "id": "540edf14",
   "metadata": {
    "ExecuteTime": {
     "end_time": "2024-05-25T11:04:51.084442Z",
     "start_time": "2024-05-25T11:04:50.806802Z"
    }
   },
   "outputs": [],
   "source": [
    "# Widgets for input and output\n",
    "x_input = widgets.FloatText(description='X Coordinate:')\n",
    "y_input = widgets.FloatText(description='Y Coordinate:')\n",
    "send_goal_button = widgets.Button(description='Send Goal')\n",
    "stop_goal_button = widgets.Button(description='Stop Goal')\n",
    "goal_status = widgets.Text(value=\"No goal set\", description='Goal Status:', disabled=True)\n",
    "\n",
    "# Output box for feedback\n",
    "output = widgets.Output()\n",
    "\n",
    "# Function to send a goal\n",
    "def send_goal(button):\n",
    "    with output:\n",
    "        x_goal = x_input.value\n",
    "        y_goal = y_input.value\n",
    "        \n",
    "        pose = PoseStamped()\n",
    "        pose.pose.position.x = x_goal\n",
    "        pose.pose.position.y = y_goal\n",
    "        pose.pose.position.z = 0\n",
    "        goal = PlanningGoal(target_pose=pose)\n",
    "\n",
    "        client.send_goal(goal, done_cb=goal_done_cb, feedback_cb=goal_feedback_cb)\n",
    "        goal_status.value = f\"Goal set at ({x_goal}, {y_goal}, 0)\"\n",
    "        print(f\"Goal sent to ({x_goal}, {y_goal})\")\n",
    "        \n",
    "        \n",
    "# Function to stop a goal\n",
    "def stop_goal(button):\n",
    "    with output:\n",
    "        client.cancel_goal()\n",
    "        goal_status.value = \"Goal canceled\"\n",
    "        print(\"Goal canceled.\")\n",
    "        \n",
    "        \n",
    "send_goal_button.on_click(send_goal)\n",
    "stop_goal_button.on_click(stop_goal)"
   ]
  },
  {
   "cell_type": "code",
   "execution_count": null,
   "id": "00c8c65f",
   "metadata": {
    "ExecuteTime": {
     "end_time": "2024-05-25T11:04:53.357118Z",
     "start_time": "2024-05-25T11:04:52.636430Z"
    }
   },
   "outputs": [],
   "source": [
    "import numpy as np\n",
    "import matplotlib.pyplot as plt\n",
    "from matplotlib.animation import FuncAnimation\n",
    "import ipywidgets as widgets\n",
    "import jupyros as jr\n",
    "from nav_msgs.msg import Odometry \n",
    "%matplotlib notebook\n",
    "\n",
    "class Visualiser:\n",
    "    \n",
    "    def __init__(self):\n",
    "        self.fig, self.ax = plt.subplots()\n",
    "        self.ln, = plt.plot([], [], 'g^', markersize=3, linestyle='-', linewidth=1) \n",
    "        self.x_data, self.y_data = [] , []\n",
    "    \n",
    "    def plot_init(self):\n",
    "        self.ax.set_xlim(20, -20)\n",
    "        self.ax.set_ylim(20, -20)\n",
    "        return self.ln\n",
    "    \n",
    "    def odom_callback(self, msg):\n",
    "        self.y_data.append(msg.pose.pose.position.y)\n",
    "        self.x_data.append(msg.pose.pose.position.x)\n",
    "    \n",
    "    def update_plot(self, frame):\n",
    "        self.ln.set_data(self.x_data, self.y_data)\n",
    "        return self.ln\n",
    "\n",
    "    def add_goal(self, x, y):\n",
    "        self.ax.plot(x, y, marker=\"+\",markeredgecolor=\"cyan\")"
   ]
  },
  {
   "cell_type": "code",
   "execution_count": null,
   "id": "69a74b3b",
   "metadata": {
    "ExecuteTime": {
     "end_time": "2024-05-25T11:04:55.024881Z",
     "start_time": "2024-05-25T11:04:54.777437Z"
    }
   },
   "outputs": [],
   "source": [
    "class VisualizerGoals:\n",
    "    def __init__(self):\n",
    "        self.fig, self.ax = plt.subplots()\n",
    "        self.res = ['Successful', 'Failed']\n",
    "        self.n_goals = [0, 0]\n",
    "        self.bar_colors = ['tab:green', 'tab:red']\n",
    "        self.bar = self.ax.bar(self.res, self.n_goals, color=self.bar_colors)\n",
    "        self.ax.set_title('Counting the State of the Goals - Successful or Failed')\n",
    "        self.ax.set_ylim(0, 10)  \n",
    "        self.ax.set_yticks(range(0, 11))  \n",
    "\n",
    "    def update(self, s, c):\n",
    "        self.n_goals = [s, c]\n",
    "        for bar, height in zip(self.bar, self.n_goals):\n",
    "            bar.set_height(height)\n",
    "        self.ax.relim()\n",
    "        self.ax.autoscale_view()\n",
    "        self.fig.canvas.draw()"
   ]
  },
  {
   "cell_type": "code",
   "execution_count": null,
   "id": "8c5ed1f8",
   "metadata": {
    "ExecuteTime": {
     "end_time": "2024-05-25T11:04:56.834884Z",
     "start_time": "2024-05-25T11:04:56.586884Z"
    }
   },
   "outputs": [],
   "source": [
    "# Odometry callback function to publish robot information\n",
    "def clbk_odom(msg):\n",
    "    \n",
    "    pub_info.publish(Info(\n",
    "        x=msg.pose.pose.position.x,\n",
    "        y=msg.pose.pose.position.y,\n",
    "        vel_x=msg.twist.twist.linear.x,\n",
    "        vel_y=msg.twist.twist.linear.y\n",
    "    ))"
   ]
  },
  {
   "cell_type": "code",
   "execution_count": null,
   "id": "d7efbb22",
   "metadata": {
    "ExecuteTime": {
     "end_time": "2024-05-25T11:04:59.115185Z",
     "start_time": "2024-05-25T11:04:58.867005Z"
    }
   },
   "outputs": [],
   "source": [
    "# Service callback to get information about goals\n",
    "def get_info_goal(req):\n",
    "    return targetResponse(target_reached, target_canceled)"
   ]
  },
  {
   "cell_type": "code",
   "execution_count": null,
   "id": "2984794e",
   "metadata": {
    "ExecuteTime": {
     "end_time": "2024-05-25T11:05:00.655333Z",
     "start_time": "2024-05-25T11:05:00.598441Z"
    }
   },
   "outputs": [],
   "source": [
    "# Set up publishers, subscribers, and services\n",
    "pub_info = rospy.Publisher(\"/bot_info\", Info, queue_size=1)\n",
    "rospy.Subscriber(\"/odom\", Odometry, clbk_odom)\n",
    "rospy.Service(\"goal_info\", target, get_info_goal)"
   ]
  },
  {
   "cell_type": "code",
   "execution_count": null,
   "id": "c6d5a96f",
   "metadata": {
    "ExecuteTime": {
     "end_time": "2024-05-25T11:05:02.604840Z",
     "start_time": "2024-05-25T11:05:02.480006Z"
    }
   },
   "outputs": [],
   "source": [
    "# wait for the Action Server\n",
    "client.wait_for_server()"
   ]
  },
  {
   "cell_type": "code",
   "execution_count": null,
   "id": "b66bccea",
   "metadata": {
    "ExecuteTime": {
     "end_time": "2024-05-25T11:05:04.880360Z",
     "start_time": "2024-05-25T11:05:04.629109Z"
    },
    "scrolled": true
   },
   "outputs": [],
   "source": [
    "vis = Visualiser()\n",
    "sub = rospy.Subscriber('/odom', Odometry, vis.odom_callback)\n",
    "ani = FuncAnimation(vis.fig, vis.update_plot, init_func=vis.plot_init)\n",
    "plt.show(block=True)"
   ]
  },
  {
   "cell_type": "code",
   "execution_count": null,
   "id": "659bf69f",
   "metadata": {
    "ExecuteTime": {
     "end_time": "2024-05-25T11:05:07.234391Z",
     "start_time": "2024-05-25T11:05:06.990333Z"
    },
    "scrolled": true
   },
   "outputs": [],
   "source": [
    "# Display layout with text inputs and buttons\n",
    "layout = widgets.VBox([x_input, y_input, send_goal_button, stop_goal_button, goal_status, output])\n",
    "display(layout)"
   ]
  },
  {
   "cell_type": "code",
   "execution_count": null,
   "id": "6779e754",
   "metadata": {
    "ExecuteTime": {
     "end_time": "2024-05-25T11:05:09.244300Z",
     "start_time": "2024-05-25T11:05:09.082861Z"
    },
    "scrolled": true
   },
   "outputs": [],
   "source": [
    "vix_goals = VisualizerGoals()"
   ]
  }
 ],
 "metadata": {
  "kernelspec": {
   "display_name": "Python 3 (ipykernel)",
   "language": "python",
   "name": "python3"
  },
  "language_info": {
   "codemirror_mode": {
    "name": "ipython",
    "version": 3
   },
   "file_extension": ".py",
   "mimetype": "text/x-python",
   "name": "python",
   "nbconvert_exporter": "python",
   "pygments_lexer": "ipython3",
   "version": "3.8.5"
  },
  "toc": {
   "base_numbering": 1,
   "nav_menu": {},
   "number_sections": true,
   "sideBar": true,
   "skip_h1_title": false,
   "title_cell": "Table of Contents",
   "title_sidebar": "Contents",
   "toc_cell": false,
   "toc_position": {},
   "toc_section_display": true,
   "toc_window_display": false
  },
  "varInspector": {
   "cols": {
    "lenName": 16,
    "lenType": 16,
    "lenVar": 40
   },
   "kernels_config": {
    "python": {
     "delete_cmd_postfix": "",
     "delete_cmd_prefix": "del ",
     "library": "var_list.py",
     "varRefreshCmd": "print(var_dic_list())"
    },
    "r": {
     "delete_cmd_postfix": ") ",
     "delete_cmd_prefix": "rm(",
     "library": "var_list.r",
     "varRefreshCmd": "cat(var_dic_list()) "
    }
   },
   "types_to_exclude": [
    "module",
    "function",
    "builtin_function_or_method",
    "instance",
    "_Feature"
   ],
   "window_display": false
  }
 },
 "nbformat": 4,
 "nbformat_minor": 5
}
